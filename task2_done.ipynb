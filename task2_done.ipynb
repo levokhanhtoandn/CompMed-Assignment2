{
 "cells": [
  {
   "cell_type": "markdown",
   "metadata": {},
   "source": [
    "# Weekly assignment 2: Task 2"
   ]
  },
  {
   "cell_type": "markdown",
   "metadata": {},
   "source": [
    "Consider the following hypothetical model a bundle goods market. A bundle of goods is a collection of particular items offered at a specific price. Think of Happy Meals offers at McDonalds: you get a set of goods in a meal, for a particular price.\n",
    "\n",
    "One other example of bundled goods - subscription packages in theaters, for example [La Scala in Milan](http://www.teatroallascala.org/en/box-office/subscriptions/types/subscription-types-2018-2019.html) or [Mariinsky in St.Peterburg](https://www.mariinsky.ru/playbill/subscriptions/2018_2019).\n",
    "\n",
    "In this task you will write code to implement and operationalize this setup.\n",
    "\n",
    "1. Start with defining a class of a bundle good using the start up code below. The class attribute (common to all objects of this class) is a list of goods. The public property of any bundle is a vector of integers defining how many of each goods are in the bundle (how many burgers, drinks and other items), and the price for that bundle.\n",
    "\n",
    "2. We are interested in defining the arithmetics for the bungles:\n",
    "    - addition:\n",
    "        1. sum of two bundles should produce a bundle with added up items and sum of the prices\n",
    "        2. sum of bundle and number (float or int) should only increase the price\n",
    "    - subtraction:\n",
    "        1. difference between two bundles should produce a bundle with difference in items and difference in prices\n",
    "        2. subtracting number (float or int) from a bundle should only decrease its price\n",
    "    - multiplication is only defined for integers, and should produce the bundle with all items multiplied by this number, and price increased by the same factor.\n",
    "    - devision is only defined for integers, and only such that the all quantities are devisible by this integer, the resulting bundle is a fraction of the original, with the price also decreased proportionally.\n",
    "    \n",
    "Complete the class definition code, and run the tests in the next cell."
   ]
  },
  {
   "cell_type": "code",
   "execution_count": 37,
   "metadata": {
    "collapsed": true
   },
   "outputs": [],
   "source": [
    "import math\n",
    "import numpy as np\n",
    "\n",
    "class bundle_good():\n",
    "    '''Class of bundled goods with well defined arithmetics'''\n",
    "    \n",
    "    items = ('Opera A', 'Opera B', \\\n",
    "             'Ballet A', 'Ballet B', \\\n",
    "             'Symphonic orchestra concert', \\\n",
    "             'Rock opera', \\\n",
    "             'Operetta') # 7 different goods\n",
    "\n",
    "    # to make a computable attribute\n",
    "    @property\n",
    "    def nItems(self):\n",
    "        '''Number of products'''\n",
    "        return len(bundle_good.items)\n",
    "        \n",
    "    def __init__(self,quantities=[0,0,0,0,0,0,0],price=0.0):\n",
    "        '''Initialize the bundle good instance with specified quantities and total price'''\n",
    "        \n",
    "        if len(quantities)<self.nItems:\n",
    "            # add zeros for the unspecified items\n",
    "            quantities += [0]*(self.nItems-len(quantities))\n",
    "        elif len(quantities)>self.nItems:\n",
    "            # ignore extra numbers\n",
    "            quantities = quantities[0:self.nItems]\n",
    "        #ensure the quantities in the object are integer (using list comprehension)\n",
    "        self.quantities=[math.floor(x) for x in quantities]\n",
    "        self.price=price\n",
    "\n",
    "    def __repr__(self):\n",
    "        '''String representation of the object'''\n",
    "        return 'Bundle object %r with price %1.2f' % (self.quantities,self.price)\n",
    "        \n",
    "    def __add__(self,other):\n",
    "        '''@@@'''\n",
    "        \n",
    "        if type(other) is bundle_good:\n",
    "            # add the quantities using list comprehension with one-to-one matching (zip)\n",
    "            q1=[x+y for (x,y) in zip(self.quantities, other.quantities)]\n",
    "            # sum of the prices\n",
    "            p1=self.price + other.price\n",
    "            # return new bundle\n",
    "            return bundle_good(q1,p1)\n",
    "        \n",
    "        elif type(other) in (float,int):\n",
    "            # increase the price\n",
    "            p1=self.price + other\n",
    "            # return new bundle\n",
    "            return bundle_good(self.quantities,p1)\n",
    "            \n",
    "        else:\n",
    "            # if other is of the wrong type, raise the TypeError like this:\n",
    "            raise TypeError('Can only add bundle to bundle, or number to bundle price')\n",
    "\n",
    "    def __sub__(self,other):\n",
    "        '''Subtraction for bundles: subtract items and prices, or decrease price'''\n",
    "\n",
    "        if type(other) is bundle_good:\n",
    "            # add the quantities using list comprehension with one-to-one matching (zip)\n",
    "            q1=[x-y for (x,y) in zip(self.quantities, other.quantities)]\n",
    "#             q1_neg = [x < 0 for x in q1] \n",
    "            # sum of the prices\n",
    "            p1=self.price - other.price\n",
    "#             p1_neg = p1 < 0\n",
    "            # check if the subtraction bundle make sense\n",
    "#             if p1_neg or any(q1_neg):\n",
    "#                 raise ValueError('Can only substract smaller bundle from larger bundle')\n",
    "            # return new bundle\n",
    "            return bundle_good(q1,p1)\n",
    "        \n",
    "        elif type(other) in (float,int):\n",
    "            # increase the price\n",
    "            p1=self.price - other\n",
    "            # return new bundle\n",
    "            return bundle_good(self.quantities,p1)\n",
    "            \n",
    "        else:\n",
    "            raise TypeError('Can only subtract bundle from bundle, or number from bundle price')\n",
    "\n",
    "    def __mul__(self,num):\n",
    "        '''duplicate the bundle'''\n",
    "        assert type(num)==int and num>=0, \"Can only duplicate the bundle by non-negative integer factor\"\n",
    "        q1 = [x*num for x in self.quantities]\n",
    "        p1 = self.price*num\n",
    "        #return the duplicate bundle\n",
    "        return bundle_good(q1,p1)\n",
    "    \n",
    "\n",
    "    def __truediv__(self,num):\n",
    "        '''Division for bundles: fraction of the original bundle, only if quantities are devisable'''\n",
    "\n",
    "        if type(num) is int and num > 0:\n",
    "            # divide quantities and check for divisibility\n",
    "            q1=[0,]*self.nItems\n",
    "            for i in range(self.nItems):\n",
    "                if self.quantities[i] % num == 0:\n",
    "                    q1[i] = self.quantities[i] / num\n",
    "                else:\n",
    "                    # if can not be devided without a remainder, raise ValueError:\n",
    "                    raise ValueError('Can not divide bundle into fractional parts')\n",
    "            # divide the price\n",
    "            p1 = self.price / num\n",
    "            # return new bundle\n",
    "            return bundle_good(q1,p1)\n",
    "            \n",
    "        else:\n",
    "            raise TypeError('Can only divide bundle by an integer')\n",
    "\n"
   ]
  },
  {
   "cell_type": "markdown",
   "metadata": {},
   "source": [
    "3. To make sure the class is running as it is supposed to, run all the tests below and confirm that the output is as expected."
   ]
  },
  {
   "cell_type": "code",
   "execution_count": 2,
   "metadata": {},
   "outputs": [
    {
     "name": "stdout",
     "output_type": "stream",
     "text": [
      "Bundle object [1, 2, 3, 4, 5, 6, 7] with price 11.43\n"
     ]
    }
   ],
   "source": [
    "# Tests\n",
    "x=bundle_good([1,2,3,4,5,6,7],11.43)\n",
    "print(x) #should print \"Bundle object [1, 2, 3, 4, 5, 6, 7] with price 11.43\""
   ]
  },
  {
   "cell_type": "code",
   "execution_count": 3,
   "metadata": {},
   "outputs": [
    {
     "name": "stdout",
     "output_type": "stream",
     "text": [
      "Bundle object [1, 2, 0, 0, 0, 0, 0] with price 0.00\n"
     ]
    }
   ],
   "source": [
    "x=bundle_good([1,2])\n",
    "print(x) #should print \"Bundle object [1, 2, 0, 0, 0, 0, 0] with price 0.00\""
   ]
  },
  {
   "cell_type": "code",
   "execution_count": 4,
   "metadata": {},
   "outputs": [
    {
     "name": "stdout",
     "output_type": "stream",
     "text": [
      "Bundle object [0, 1, 2, 3, 4, 5, 6] with price 100.20\n"
     ]
    }
   ],
   "source": [
    "x=bundle_good(range(25),100.2)\n",
    "print(x) #should print \"Bundle object [0, 1, 2, 3, 4, 5, 6] with price 100.20\""
   ]
  },
  {
   "cell_type": "code",
   "execution_count": 5,
   "metadata": {},
   "outputs": [
    {
     "name": "stdout",
     "output_type": "stream",
     "text": [
      "Bundle object [1, 2, 3, 4, 5, 6, 7] with price 1.43\n"
     ]
    }
   ],
   "source": [
    "x=bundle_good([1.5,2.3,3.2,4.1,5.75,6.86,7.97],1.43)\n",
    "print(x) #should print \"Bundle object [1, 2, 3, 4, 5, 6, 7] with price 1.43\""
   ]
  },
  {
   "cell_type": "code",
   "execution_count": 38,
   "metadata": {},
   "outputs": [
    {
     "name": "stdout",
     "output_type": "stream",
     "text": [
      "Bundle object [8, 8, 8, 8, 8, 8, 8] with price 88.88\n"
     ]
    }
   ],
   "source": [
    "x=bundle_good([1,2,3,4,5,6,7],11.43)\n",
    "y=bundle_good([7,6,5,4,3,2,1],77.45)\n",
    "z=x+y\n",
    "print(z) #should print \"Bundle object [8, 8, 8, 8, 8, 8, 8] with price 88.88\""
   ]
  },
  {
   "cell_type": "code",
   "execution_count": 27,
   "metadata": {},
   "outputs": [
    {
     "name": "stdout",
     "output_type": "stream",
     "text": [
      "Bundle object [6, 4, 2, 0, -2, -4, -6] with price 66.02\n"
     ]
    }
   ],
   "source": [
    "z=y-x\n",
    "print(z) #should print \"Bundle object [6, 4, 2, 0, -2, -4, -6] with price 66.02\""
   ]
  },
  {
   "cell_type": "code",
   "execution_count": 22,
   "metadata": {},
   "outputs": [
    {
     "name": "stdout",
     "output_type": "stream",
     "text": [
      "Bundle object [1, 2, 3, 4, 5, 6, 7] with price 15.96\n"
     ]
    }
   ],
   "source": [
    "z=x+4.531\n",
    "print(z) #should print \"Bundle object [1, 2, 3, 4, 5, 6, 7] with price 15.96\""
   ]
  },
  {
   "cell_type": "code",
   "execution_count": 23,
   "metadata": {},
   "outputs": [
    {
     "name": "stdout",
     "output_type": "stream",
     "text": [
      "Bundle object [7, 6, 5, 4, 3, 2, 1] with price 0.45\n"
     ]
    }
   ],
   "source": [
    "z=y-77\n",
    "print(z) #should print \"Bundle object [7, 6, 5, 4, 3, 2, 1] with price 0.45\""
   ]
  },
  {
   "cell_type": "code",
   "execution_count": 24,
   "metadata": {},
   "outputs": [
    {
     "name": "stdout",
     "output_type": "stream",
     "text": [
      "Bundle object [11, 22, 33, 44, 55, 66, 77] with price 125.73\n"
     ]
    }
   ],
   "source": [
    "z=x*11\n",
    "print(z) #should print \"Bundle object [11, 22, 33, 44, 55, 66, 77] with price 125.73\""
   ]
  },
  {
   "cell_type": "code",
   "execution_count": 29,
   "metadata": {},
   "outputs": [
    {
     "name": "stdout",
     "output_type": "stream",
     "text": [
      "Ok 1\n"
     ]
    }
   ],
   "source": [
    "try:\n",
    "    z=x*11.5 #should raise a AssertionError \n",
    "except AssertionError:\n",
    "    print(\"Ok 1\") #should print \"Ok 1\""
   ]
  },
  {
   "cell_type": "code",
   "execution_count": 31,
   "metadata": {},
   "outputs": [
    {
     "name": "stdout",
     "output_type": "stream",
     "text": [
      "Ok 2\n"
     ]
    }
   ],
   "source": [
    "try:\n",
    "    z=x*y #should raise a TypeError\n",
    "except AssertionError:\n",
    "    print(\"Ok 2\") #should print \"Ok 2\""
   ]
  },
  {
   "cell_type": "code",
   "execution_count": 32,
   "metadata": {},
   "outputs": [
    {
     "name": "stdout",
     "output_type": "stream",
     "text": [
      "Ok 3\n"
     ]
    }
   ],
   "source": [
    "try:\n",
    "    z=x/y #should raise a TypeError\n",
    "except TypeError:\n",
    "    print(\"Ok 3\") #should print \"Ok 3\""
   ]
  },
  {
   "cell_type": "code",
   "execution_count": 40,
   "metadata": {},
   "outputs": [
    {
     "name": "stdout",
     "output_type": "stream",
     "text": [
      "Bundle object [1, 1, 1, 1, 1, 1, 1] with price 11.11\n"
     ]
    }
   ],
   "source": [
    "z=(x+y)/8\n",
    "print(z) #should print \"Bundle object [1, 1, 1, 1, 1, 1, 1] with price 11.11\""
   ]
  },
  {
   "cell_type": "code",
   "execution_count": 39,
   "metadata": {},
   "outputs": [
    {
     "name": "stdout",
     "output_type": "stream",
     "text": [
      "Ok 4\n"
     ]
    }
   ],
   "source": [
    "try:\n",
    "    (x+y)/7 #should raise a ValueError\n",
    "except ValueError:\n",
    "    print(\"Ok 4\") #should print \"Ok 4\""
   ]
  },
  {
   "cell_type": "code",
   "execution_count": 41,
   "metadata": {},
   "outputs": [
    {
     "name": "stdout",
     "output_type": "stream",
     "text": [
      "Bundle object [1, 18, 35, 52, 69, 86, 103] with price 16.55\n"
     ]
    }
   ],
   "source": [
    "z=x*15-y*2\n",
    "print(z) #should print \"Bundle object [1, 18, 35, 52, 69, 86, 103] with price 16.55\""
   ]
  },
  {
   "cell_type": "markdown",
   "metadata": {},
   "source": [
    "Now that all tests pass, we can use the class bundle_good for some modelling.\n",
    "4. Consider a market with only two traded bundles, namely [3,7] and [5,12]. Imagine a consumer who is willing to consume one unit of the first good. How much of the second good will this consumer have to consume?  Present the calcualtions you used to find an answer."
   ]
  },
  {
   "cell_type": "code",
   "execution_count": 45,
   "metadata": {},
   "outputs": [
    {
     "name": "stdout",
     "output_type": "stream",
     "text": [
      "Bundle object [3, 7, 0, 0, 0, 0, 0] with price 0.00\n",
      "Bundle object [5, 12, 0, 0, 0, 0, 0] with price 0.00\n"
     ]
    }
   ],
   "source": [
    "a=bundle_good([3,7])\n",
    "b=bundle_good([5,12])\n",
    "print(a,b,sep='\\n')"
   ]
  },
  {
   "cell_type": "markdown",
   "metadata": {},
   "source": [
    "5. Consider a consumer with a utility function over the individual goods given by $u(x_1,\\dots,x_7)=\\log(x_1+1)+\\big((x_2)^{0.4}+0.5(x_3)^{0.4}\\big)^{2.5}-0.5\\log(x_4+1)-0.2(x_5*x_6)^{0.2}+2\\log(x_7+1)$. Find the optimal set of bundle goods to be consumed by comparing different combinations of the availble bundles shown in the starter code below.  There are only three bundle goods on the market, so we can afford a brute force optimization algorithm implemented as a tripple nested loop, with each level corresponding to one bundle good and looping from 0 to some reasonable number (think which number would be reasonable). Compute the optimal choice for budgets of:\n",
    "    - 100\n",
    "    - 200\n",
    "    - 300"
   ]
  },
  {
   "cell_type": "code",
   "execution_count": 59,
   "metadata": {},
   "outputs": [
    {
     "name": "stdout",
     "output_type": "stream",
     "text": [
      "(Bundle object [4, 25, 2, 26, 12, 12, 10] with price 97.80, 42.195226305060686)\n",
      "(Bundle object [7, 50, 4, 51, 23, 28, 24] with price 197.82, 81.769038226902651)\n",
      "(Bundle object [10, 80, 5, 79, 37, 37, 32] with price 298.26, 123.53043883695875)\n"
     ]
    }
   ],
   "source": [
    "# Available bundle goods\n",
    "from itertools import product\n",
    "a=bundle_good([2,0,1,3,1,1,0],10.50)\n",
    "b=bundle_good([0,5,0,4,2,2,2],15.36)\n",
    "c=bundle_good([1,0,1,2,0,5,4],12.72)\n",
    "market=[a,b,c]\n",
    "\n",
    "def utility(bundle):\n",
    "    x1, x2, x3, x4, x5, x6, x7 = bundle.quantities\n",
    "    return np.log(x1+1) + (x2**0.4+0.5*x3**0.4)**2.5 - 0.5*np.log(x4+1) - 0.2*(x5*x6)**0.2 + 2*np.log(x7+1)\n",
    "\n",
    "def consumer_problem(market, y, N=31):\n",
    "    L=[]\n",
    "    a,b,c = market\n",
    "    for (i,j,k) in product(range(N),range(N),range(N)):\n",
    "        d = a*i + b*j + c*k\n",
    "        if d.price <= y:\n",
    "            L.append((d,utility(d)))\n",
    "    fsort = lambda x: x[1]\n",
    "    L.sort(key=fsort, reverse = True)\n",
    "    return L[0]\n",
    "# Write your code here. Think of good way to modularize it\n",
    "\n",
    "print(consumer_problem(market, 100))\n",
    "print(consumer_problem(market, 200))\n",
    "print(consumer_problem(market, 300))"
   ]
  },
  {
   "cell_type": "markdown",
   "metadata": {},
   "source": [
    "6. Imagine the newly introduced sales tax raised all prices by 15%. Recompuite the optimal choices in previous question. Do the optimal choices change, and how?"
   ]
  },
  {
   "cell_type": "code",
   "execution_count": 60,
   "metadata": {},
   "outputs": [
    {
     "name": "stdout",
     "output_type": "stream",
     "text": [
      "(Bundle object [2, 20, 2, 20, 8, 18, 16] with price 99.91, 36.189045121515711)\n",
      "(Bundle object [5, 45, 3, 44, 20, 25, 22] with price 197.75, 71.99093826169991)\n",
      "(Bundle object [7, 70, 4, 67, 31, 36, 32] with price 298.15, 107.40681692384892)\n"
     ]
    }
   ],
   "source": [
    "at=bundle_good([2,0,1,3,1,1,0],10.50*1.15)\n",
    "bt=bundle_good([0,5,0,4,2,2,2],15.36*1.15)\n",
    "ct=bundle_good([1,0,1,2,0,5,4],12.72*1.15)\n",
    "market_t=[at,bt,ct]\n",
    "\n",
    "print(consumer_problem(market_t, 100))\n",
    "print(consumer_problem(market_t, 200))\n",
    "print(consumer_problem(market_t, 300))"
   ]
  },
  {
   "cell_type": "markdown",
   "metadata": {},
   "source": [
    "7. Imagine the sale for bundle good c lowes its price by 20%. Recompuite the optimal choices in previous question. Do the optimal choices change, and how?"
   ]
  },
  {
   "cell_type": "code",
   "execution_count": 62,
   "metadata": {},
   "outputs": [
    {
     "name": "stdout",
     "output_type": "stream",
     "text": [
      "(Bundle object [2, 20, 2, 20, 8, 18, 16] with price 94.06, 36.189045121515711)\n",
      "(Bundle object [3, 45, 3, 42, 18, 33, 30] with price 194.08, 72.180892355718029)\n",
      "(Bundle object [6, 65, 6, 64, 26, 56, 50] with price 299.85, 107.86265950784065)\n"
     ]
    }
   ],
   "source": [
    "at=bundle_good([2,0,1,3,1,1,0],10.50*1.15)\n",
    "bt=bundle_good([0,5,0,4,2,2,2],15.36*1.15)\n",
    "cl=bundle_good([1,0,1,2,0,5,4],12.72*1.15*0.8)\n",
    "market_tl=[at,bt,cl]\n",
    "\n",
    "print(consumer_problem(market_tl, 100))\n",
    "print(consumer_problem(market_tl, 200))\n",
    "print(consumer_problem(market_tl, 300))"
   ]
  },
  {
   "cell_type": "markdown",
   "metadata": {},
   "source": [
    "8$^\\star$. Copy the code that defines the class of bundle_object and change it to implement the following properties:\n",
    "1. The number of goods in the economy is set in the init() call. This allows for potentially having bundles of different lengths of goods on the same market, so all arithmetic operations have to be adjusted to check for that the budgles have similar lenghts.\n",
    "2. Short sales are not allowed, so there can not be negative number of any goods in the subtraction operation. Add the ValueError similar to division operation."
   ]
  },
  {
   "cell_type": "code",
   "execution_count": null,
   "metadata": {
    "collapsed": true
   },
   "outputs": [],
   "source": [
    "import math\n",
    "import numpy as np\n",
    "\n",
    "class bundle_good():\n",
    "    '''Class of bundled goods with well defined arithmetics'''\n",
    "    \n",
    "    items = ('Opera A', 'Opera B', \\\n",
    "             'Ballet A', 'Ballet B', \\\n",
    "             'Symphonic orchestra concert', \\\n",
    "             'Rock opera', \\\n",
    "             'Operetta') # 7 different goods\n",
    "\n",
    "    # to make a computable attribute\n",
    "    @property\n",
    "    def nItems(self):\n",
    "        '''Number of products'''\n",
    "        return len(bundle_good.items)\n",
    "        \n",
    "    def __init__(self,quantities=[0,0,0,0,0,0,0],price=0.0):\n",
    "        '''Initialize the bundle good instance with specified quantities and total price'''\n",
    "        \n",
    "        if len(quantities)<self.nItems:\n",
    "            # add zeros for the unspecified items\n",
    "            quantities += [0]*(self.nItems-len(quantities))\n",
    "        elif len(quantities)>self.nItems:\n",
    "            # ignore extra numbers\n",
    "            quantities = quantities[0:self.nItems]\n",
    "        #ensure the quantities in the object are integer (using list comprehension)\n",
    "        self.quantities=[math.floor(x) for x in quantities]\n",
    "        self.price=price\n",
    "\n",
    "    def __repr__(self):\n",
    "        '''String representation of the object'''\n",
    "        return 'Bundle object %r with price %1.2f' % (self.quantities,self.price)\n",
    "        \n",
    "    def __add__(self,other):\n",
    "        '''@@@'''\n",
    "        \n",
    "        if type(other) is bundle_good:\n",
    "            # add the quantities using list comprehension with one-to-one matching (zip)\n",
    "            q1=[x+y for (x,y) in zip(self.quantities, other.quantities)]\n",
    "            # sum of the prices\n",
    "            p1=self.price + other.price\n",
    "            # return new bundle\n",
    "            return bundle_good(q1,p1)\n",
    "        \n",
    "        elif type(other) in (float,int):\n",
    "            # increase the price\n",
    "            p1=self.price + other\n",
    "            # return new bundle\n",
    "            return bundle_good(self.quantities,p1)\n",
    "            \n",
    "        else:\n",
    "            # if other is of the wrong type, raise the TypeError like this:\n",
    "            raise TypeError('Can only add bundle to bundle, or number to bundle price')\n",
    "\n",
    "    def __sub__(self,other):\n",
    "        '''Subtraction for bundles: subtract items and prices, or decrease price'''\n",
    "\n",
    "        if type(other) is bundle_good:\n",
    "            # add the quantities using list comprehension with one-to-one matching (zip)\n",
    "            q1=[x-y for (x,y) in zip(self.quantities, other.quantities)]\n",
    "            q1_neg = [x < 0 for x in q1] \n",
    "            # sum of the prices\n",
    "            p1=self.price - other.price\n",
    "#             p1_neg = p1 < 0\n",
    "            # check if the subtraction bundle make sense\n",
    "#             if p1_neg or any(q1_neg):\n",
    "#                 raise ValueError('Can only substract smaller bundle from larger bundle')\n",
    "            # return new bundle\n",
    "            return bundle_good(q1,p1)\n",
    "        \n",
    "        elif type(other) in (float,int):\n",
    "            # increase the price\n",
    "            p1=self.price - other\n",
    "            # return new bundle\n",
    "            return bundle_good(self.quantities,p1)\n",
    "            \n",
    "        else:\n",
    "            raise TypeError('Can only subtract bundle from bundle, or number from bundle price')\n",
    "\n",
    "    def __mul__(self,num):\n",
    "        '''duplicate the bundle'''\n",
    "        assert type(num)==int and num>=0, \"Can only duplicate the bundle by non-negative integer factor\"\n",
    "        q1 = [x*num for x in self.quantities]\n",
    "        p1 = self.price*num\n",
    "        #return the duplicate bundle\n",
    "        return bundle_good(q1,p1)\n",
    "    \n",
    "\n",
    "    def __truediv__(self,num):\n",
    "        '''Division for bundles: fraction of the original bundle, only if quantities are devisable'''\n",
    "\n",
    "        if type(num) is int and num > 0:\n",
    "            # divide quantities and check for divisibility\n",
    "            q1=[0,]*self.nItems\n",
    "            for i in range(self.nItems):\n",
    "                if self.quantities[i] % num == 0:\n",
    "                    q1[i] = self.quantities[i] / num\n",
    "                else:\n",
    "                    # if can not be devided without a remainder, raise ValueError:\n",
    "                    raise ValueError('Can not divide bundle into fractional parts')\n",
    "            # divide the price\n",
    "            p1 = self.price / num\n",
    "            # return new bundle\n",
    "            return bundle_good(q1,p1)\n",
    "            \n",
    "        else:\n",
    "            raise TypeError('Can only divide bundle by an integer')\n",
    "\n"
   ]
  }
 ],
 "metadata": {
  "kernelspec": {
   "display_name": "Python 3",
   "language": "python",
   "name": "python3"
  },
  "language_info": {
   "codemirror_mode": {
    "name": "ipython",
    "version": 3
   },
   "file_extension": ".py",
   "mimetype": "text/x-python",
   "name": "python",
   "nbconvert_exporter": "python",
   "pygments_lexer": "ipython3",
   "version": "3.6.1"
  }
 },
 "nbformat": 4,
 "nbformat_minor": 2
}
