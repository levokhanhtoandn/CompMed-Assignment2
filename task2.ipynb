{
 "cells": [
  {
   "cell_type": "markdown",
   "metadata": {},
   "source": [
    "# Weekly assignment 2: Task 2"
   ]
  },
  {
   "cell_type": "markdown",
   "metadata": {},
   "source": [
    "Consider the following hypothetical model a bundle goods market. A bundle of goods is a collection of particular items offered at a specific price. Think of Happy Meals offers at McDonalds: you get a set of goods in a meal, for a particular price.\n",
    "\n",
    "One other example of bundled goods - subscription packages in theaters, for example [La Scala in Milan](http://www.teatroallascala.org/en/box-office/subscriptions/types/subscription-types-2018-2019.html) or [Mariinsky in St.Peterburg](https://www.mariinsky.ru/playbill/subscriptions/2018_2019).\n",
    "\n",
    "In this task you will write code to implement and operationalize this setup.\n",
    "\n",
    "1. Start with defining a class of a bundle good using the start up code below. The class attribute (common to all objects of this class) is a list of goods. The public property of any bundle is a vector of integers defining how many of each goods are in the bundle (how many burgers, drinks and other items), and the price for that bundle.\n",
    "\n",
    "2. We are interested in defining the arithmetics for the bungles:\n",
    "    - addition:\n",
    "        1. sum of two bundles should produce a bundle with added up items and sum of the prices\n",
    "        2. sum of bundle and number (float or int) should only increase the price\n",
    "    - subtraction:\n",
    "        1. difference between two bundles should produce a bundle with difference in items and difference in prices\n",
    "        2. subtracting number (float or int) from a bundle should only decrease its price\n",
    "    - multiplication is only defined for integers, and should produce the bundle with all items multiplied by this number, and price increased by the same factor.\n",
    "    - devision is only defined for integers, and only such that the all quantities are devisible by this integer, the resulting bundle is a fraction of the original, with the price also decreased proportionally.\n",
    "    \n",
    "Complete the class definition code, and run the tests in the next cell."
   ]
  },
  {
   "cell_type": "code",
   "execution_count": null,
   "metadata": {},
   "outputs": [],
   "source": [
    "# Starter code: replace @@@ with appropriate commands (or lines of commands)\n",
    "import math\n",
    "\n",
    "class bundle_good():\n",
    "    '''Class of bundled goods with well defined arithmetics'''\n",
    "    \n",
    "    items = ('Opera A', 'Opera B', \\\n",
    "             'Ballet A', 'Ballet B', \\\n",
    "             'Symphonic orchestra concert', \\\n",
    "             'Rock opera', \\\n",
    "             'Operetta') # 7 different goods\n",
    "\n",
    "    # to make a computable attribute\n",
    "    @property\n",
    "    def nItems(self):\n",
    "        '''Numer of products'''\n",
    "        return len(bundle_good.@@@)\n",
    "        \n",
    "    def __init__(self,quantities=[0,0,0,0,0,0,0],price=0.0):\n",
    "        '''@@@'''\n",
    "        \n",
    "        if len(quantities)<self.nItems:\n",
    "            # add zeros for the unspecified items\n",
    "            quantities += [0,]*(@@@)\n",
    "        elif @@@>self.nItems:\n",
    "            # ignore extra numbers\n",
    "            quantities = quantities[@@@]\n",
    "        #ensure the quantities in the object are integer (using list comprehension)\n",
    "        self.quantities=[math.floor(x) for @@@]\n",
    "        self.price=@@@\n",
    "\n",
    "    def __repr__(@@@):\n",
    "        '''String representation of the object'''\n",
    "        return 'Bundle object %r with price %1.2f' % (self.quantities,self.price)\n",
    "        \n",
    "    def __add__(self,other):\n",
    "        '''@@@'''\n",
    "        \n",
    "        if type(other) is @@@:\n",
    "            # add the quantities using list comprehension with one-to-one matching (zip)\n",
    "            q1=[x+y for x,y in @@@(self.quantities, other.quantities)]\n",
    "            # sum of the prices\n",
    "            p1=@@@.price + @@@.price\n",
    "            # return new bundle\n",
    "            return bundle_good(@@@)\n",
    "        \n",
    "        elif type(@@@) in (float,int):\n",
    "            # increase the price\n",
    "            p1=@@@ + other\n",
    "            # return new bundle\n",
    "            return bundle_good(@@@)\n",
    "            \n",
    "        else:\n",
    "            # if other is of the wrong type, raise the TypeError like this:\n",
    "            raise TypeError('Can only add bundle to bundle, or number to bundle price')\n",
    "\n",
    "    def __sub__(self,other):\n",
    "        '''Subtraction for bundles: subtract items and prices, or decrease price'''\n",
    "\n",
    "        @@@\n",
    "            \n",
    "        else:\n",
    "            raise TypeError('Can only subtract bundle from bundle, or number from bundle price')\n",
    "\n",
    "    def __mul__(self,num):\n",
    "        '''@@@'''\n",
    "\n",
    "        @@@\n",
    "\n",
    "    def __truediv__(self,num):\n",
    "        '''Division for bundles: fraction of the original bundle, only if quantities are devisable'''\n",
    "\n",
    "        if @@@ is int:\n",
    "            # divide quantities and check for divisibility\n",
    "            q1=[0,]*self.nItems\n",
    "            for i in range(@@@):\n",
    "                if self.quantities[i] % num == @@@:\n",
    "                    q1[i] = self.quantities[@@@] / @@@\n",
    "                else:\n",
    "                    # if can not be devided without a remainder, raise ValueError:\n",
    "                    raise ValueError('Can not divide bundle into fractional parts')\n",
    "            # divide the price\n",
    "            p1 = @@@\n",
    "            # return new bundle\n",
    "            return @@@\n",
    "            \n",
    "        else:\n",
    "            raise TypeError('Can only divide bundle by an integer')\n",
    "\n"
   ]
  },
  {
   "cell_type": "markdown",
   "metadata": {},
   "source": [
    "3. To make sure the class is running as it is supposed to, run all the tests below and confirm that the output is as expected."
   ]
  },
  {
   "cell_type": "code",
   "execution_count": null,
   "metadata": {},
   "outputs": [],
   "source": [
    "# Tests\n",
    "x=bundle_good([1,2,3,4,5,6,7],11.43)\n",
    "print(x) #should print \"Bundle object [1, 2, 3, 4, 5, 6, 7] with price 11.43\""
   ]
  },
  {
   "cell_type": "code",
   "execution_count": null,
   "metadata": {},
   "outputs": [],
   "source": [
    "x=bundle_good([1,2])\n",
    "print(x) #should print \"Bundle object [1, 2, 0, 0, 0, 0, 0] with price 0.00\""
   ]
  },
  {
   "cell_type": "code",
   "execution_count": null,
   "metadata": {},
   "outputs": [],
   "source": [
    "x=bundle_good(range(25),100.2)\n",
    "print(x) #should print \"Bundle object [0, 1, 2, 3, 4, 5, 6] with price 100.20\""
   ]
  },
  {
   "cell_type": "code",
   "execution_count": null,
   "metadata": {},
   "outputs": [],
   "source": [
    "x=bundle_good([1.5,2.3,3.2,4.1,5.75,6.86,7.97],1.43)\n",
    "print(x) #should print \"Bundle object [1, 2, 3, 4, 5, 6, 7] with price 1.43\""
   ]
  },
  {
   "cell_type": "code",
   "execution_count": null,
   "metadata": {},
   "outputs": [],
   "source": [
    "x=bundle_good([1,2,3,4,5,6,7],11.43)\n",
    "y=bundle_good([7,6,5,4,3,2,1],77.45)\n",
    "z=x+y\n",
    "print(z) #should print \"Bundle object [8, 8, 8, 8, 8, 8, 8] with price 88.88\""
   ]
  },
  {
   "cell_type": "code",
   "execution_count": null,
   "metadata": {},
   "outputs": [],
   "source": [
    "z=y-x\n",
    "print(z) #should print \"Bundle object [6, 4, 2, 0, -2, -4, -6] with price 66.02\""
   ]
  },
  {
   "cell_type": "code",
   "execution_count": null,
   "metadata": {},
   "outputs": [],
   "source": [
    "z=x+4.531\n",
    "print(z) #should print \"Bundle object [1, 2, 3, 4, 5, 6, 7] with price 15.96\""
   ]
  },
  {
   "cell_type": "code",
   "execution_count": null,
   "metadata": {},
   "outputs": [],
   "source": [
    "z=y-77\n",
    "print(z) #should print \"Bundle object [7, 6, 5, 4, 3, 2, 1] with price 0.45\""
   ]
  },
  {
   "cell_type": "code",
   "execution_count": null,
   "metadata": {},
   "outputs": [],
   "source": [
    "z=x*11\n",
    "print(z) #should print \"Bundle object [11, 22, 33, 44, 55, 66, 77] with price 125.73\""
   ]
  },
  {
   "cell_type": "code",
   "execution_count": null,
   "metadata": {},
   "outputs": [],
   "source": [
    "try:\n",
    "    z=x*11.5 #should raise a TypeError \n",
    "except TypeError:\n",
    "    print(\"Ok 1\") #should print \"Ok 1\""
   ]
  },
  {
   "cell_type": "code",
   "execution_count": null,
   "metadata": {},
   "outputs": [],
   "source": [
    "try:\n",
    "    z=x*y #should raise a TypeError\n",
    "except TypeError:\n",
    "    print(\"Ok 2\") #should print \"Ok 2\""
   ]
  },
  {
   "cell_type": "code",
   "execution_count": null,
   "metadata": {},
   "outputs": [],
   "source": [
    "try:\n",
    "    z=x/y #should raise a TypeError\n",
    "except TypeError:\n",
    "    print(\"Ok 3\") #should print \"Ok 3\""
   ]
  },
  {
   "cell_type": "code",
   "execution_count": null,
   "metadata": {},
   "outputs": [],
   "source": [
    "z=(x+y)/8\n",
    "print(z) #should print \"Bundle object [1, 1, 1, 1, 1, 1, 1] with price 11.11\""
   ]
  },
  {
   "cell_type": "code",
   "execution_count": null,
   "metadata": {},
   "outputs": [],
   "source": [
    "try:\n",
    "    (x+y)/7 #should raise a ValueError\n",
    "except ValueError:\n",
    "    print(\"Ok 4\") #should print \"Ok 4\""
   ]
  },
  {
   "cell_type": "code",
   "execution_count": null,
   "metadata": {},
   "outputs": [],
   "source": [
    "z=x*15-y*2\n",
    "print(z) #should print \"Bundle object [1, 18, 35, 52, 69, 86, 103] with price 16.55\""
   ]
  },
  {
   "cell_type": "markdown",
   "metadata": {},
   "source": [
    "Now that all tests pass, we can use the class bundle_good for some modelling.\n",
    "4. Consider a market with only two traded bundles, namely [3,7] and [5,12]. Imagine a consumer who is willing to consume one unit of the first good. How much of the second good will this consumer have to consume?  Present the calcualtions you used to find an answer."
   ]
  },
  {
   "cell_type": "code",
   "execution_count": null,
   "metadata": {},
   "outputs": [],
   "source": [
    "a=bundle_good([3,7])\n",
    "b=bundle_good([5,12])\n"
   ]
  },
  {
   "cell_type": "markdown",
   "metadata": {},
   "source": [
    "5. Consider a consumer with a utility function over the individual goods given by $u(x_1,\\dots,x_7)=\\log(x_1+1)+\\big((x_2)^{0.4}+0.5(x_3)^{0.4}\\big)^{2.5}-0.5\\log(x_4+1)-0.2(x_5*x_6)^{0.2}+2\\log(x_7+1)$. Find the optimal set of bundle goods to be consumed by comparing different combinations of the availble bundles shown in the starter code below.  There are only three bundle goods on the market, so we can afford a brute force optimization algorithm implemented as a tripple nested loop, with each level corresponding to one bundle good and looping from 0 to some reasonable number (think which number would be reasonable). Compute the optimal choice for budgets of:\n",
    "    - 100\n",
    "    - 200\n",
    "    - 300"
   ]
  },
  {
   "cell_type": "code",
   "execution_count": null,
   "metadata": {},
   "outputs": [],
   "source": [
    "# Available bundle goods\n",
    "a=bundle_good([2,0,1,3,1,1,0],10.50)\n",
    "b=bundle_good([0,5,0,4,2,2,2],15.36)\n",
    "c=bundle_good([1,0,1,2,0,5,4],12.72)\n",
    "market=[a,b,c]\n",
    "\n",
    "# Write your code here. Think of good way to modularize it"
   ]
  },
  {
   "cell_type": "markdown",
   "metadata": {},
   "source": [
    "6. Imagine the newly introduced sales tax raised all prices by 15%. Recompuite the optimal choices in previous question. Do the optimal choices change, and how?"
   ]
  },
  {
   "cell_type": "code",
   "execution_count": null,
   "metadata": {},
   "outputs": [],
   "source": [
    "# Write your code here"
   ]
  },
  {
   "cell_type": "markdown",
   "metadata": {},
   "source": [
    "7. Imagine the sale for bundle good c lowes its price by 20%. Recompuite the optimal choices in previous question. Do the optimal choices change, and how?"
   ]
  },
  {
   "cell_type": "code",
   "execution_count": null,
   "metadata": {},
   "outputs": [],
   "source": [
    "# Write your code here"
   ]
  },
  {
   "cell_type": "markdown",
   "metadata": {},
   "source": [
    "8$^\\star$. Copy the code that defines the class of bundle_object and change it to implement the following properties:\n",
    "1. The number of goods in the economy is set in the init() call. This allows for potentially having bundles of different lengths of goods on the same market, so all arithmetic operations have to be adjusted to check for that the budgles have similar lenghts.\n",
    "2. Short sales are not allowed, so there can not be negative number of any goods in the subtraction operation. Add the ValueError similar to division operation."
   ]
  }
 ],
 "metadata": {
  "kernelspec": {
   "display_name": "Python 3",
   "language": "python",
   "name": "python3"
  },
  "language_info": {
   "codemirror_mode": {
    "name": "ipython",
    "version": 3
   },
   "file_extension": ".py",
   "mimetype": "text/x-python",
   "name": "python",
   "nbconvert_exporter": "python",
   "pygments_lexer": "ipython3",
   "version": "3.6.5"
  }
 },
 "nbformat": 4,
 "nbformat_minor": 2
}
