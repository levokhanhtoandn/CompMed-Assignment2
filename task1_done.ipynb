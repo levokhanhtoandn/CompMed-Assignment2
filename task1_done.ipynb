{
 "cells": [
  {
   "cell_type": "markdown",
   "metadata": {},
   "source": [
    "# Weekly assignment 2: Task 1"
   ]
  },
  {
   "cell_type": "markdown",
   "metadata": {},
   "source": [
    "This task follows closely the second part of week 3 lecture (Introduction to Data Manipulation and Plotting in Python). Read along and complete the missing code parts, including in places market with @@@."
   ]
  },
  {
   "cell_type": "markdown",
   "metadata": {},
   "source": [
    "#### Read csv the data into a dataframe\n",
    "\n",
    "* The data come from ['The Economic Guide to Picking a College Major'](https://fivethirtyeight.com/features/the-economic-guide-to-picking-a-college-major/), Fivethirtyeight magazine"
   ]
  },
  {
   "cell_type": "code",
   "execution_count": 25,
   "metadata": {},
   "outputs": [
    {
     "data": {
      "text/html": [
       "<div>\n",
       "<style>\n",
       "    .dataframe thead tr:only-child th {\n",
       "        text-align: right;\n",
       "    }\n",
       "\n",
       "    .dataframe thead th {\n",
       "        text-align: left;\n",
       "    }\n",
       "\n",
       "    .dataframe tbody tr th {\n",
       "        vertical-align: top;\n",
       "    }\n",
       "</style>\n",
       "<table border=\"1\" class=\"dataframe\">\n",
       "  <thead>\n",
       "    <tr style=\"text-align: right;\">\n",
       "      <th></th>\n",
       "      <th>Rank</th>\n",
       "      <th>Major_code</th>\n",
       "      <th>Major</th>\n",
       "      <th>Total</th>\n",
       "      <th>Men</th>\n",
       "      <th>Women</th>\n",
       "      <th>Major_category</th>\n",
       "      <th>ShareWomen</th>\n",
       "      <th>Sample_size</th>\n",
       "      <th>Employed</th>\n",
       "      <th>...</th>\n",
       "      <th>Part_time</th>\n",
       "      <th>Full_time_year_round</th>\n",
       "      <th>Unemployed</th>\n",
       "      <th>Unemployment_rate</th>\n",
       "      <th>Median</th>\n",
       "      <th>P25th</th>\n",
       "      <th>P75th</th>\n",
       "      <th>College_jobs</th>\n",
       "      <th>Non_college_jobs</th>\n",
       "      <th>Low_wage_jobs</th>\n",
       "    </tr>\n",
       "  </thead>\n",
       "  <tbody>\n",
       "    <tr>\n",
       "      <th>0</th>\n",
       "      <td>1</td>\n",
       "      <td>2419</td>\n",
       "      <td>PETROLEUM ENGINEERING</td>\n",
       "      <td>2339.0</td>\n",
       "      <td>2057.0</td>\n",
       "      <td>282.0</td>\n",
       "      <td>Engineering</td>\n",
       "      <td>0.120564</td>\n",
       "      <td>36</td>\n",
       "      <td>1976</td>\n",
       "      <td>...</td>\n",
       "      <td>270</td>\n",
       "      <td>1207</td>\n",
       "      <td>37</td>\n",
       "      <td>0.018381</td>\n",
       "      <td>110000</td>\n",
       "      <td>95000</td>\n",
       "      <td>125000</td>\n",
       "      <td>1534</td>\n",
       "      <td>364</td>\n",
       "      <td>193</td>\n",
       "    </tr>\n",
       "    <tr>\n",
       "      <th>1</th>\n",
       "      <td>2</td>\n",
       "      <td>2416</td>\n",
       "      <td>MINING AND MINERAL ENGINEERING</td>\n",
       "      <td>756.0</td>\n",
       "      <td>679.0</td>\n",
       "      <td>77.0</td>\n",
       "      <td>Engineering</td>\n",
       "      <td>0.101852</td>\n",
       "      <td>7</td>\n",
       "      <td>640</td>\n",
       "      <td>...</td>\n",
       "      <td>170</td>\n",
       "      <td>388</td>\n",
       "      <td>85</td>\n",
       "      <td>0.117241</td>\n",
       "      <td>75000</td>\n",
       "      <td>55000</td>\n",
       "      <td>90000</td>\n",
       "      <td>350</td>\n",
       "      <td>257</td>\n",
       "      <td>50</td>\n",
       "    </tr>\n",
       "    <tr>\n",
       "      <th>2</th>\n",
       "      <td>3</td>\n",
       "      <td>2415</td>\n",
       "      <td>METALLURGICAL ENGINEERING</td>\n",
       "      <td>856.0</td>\n",
       "      <td>725.0</td>\n",
       "      <td>131.0</td>\n",
       "      <td>Engineering</td>\n",
       "      <td>0.153037</td>\n",
       "      <td>3</td>\n",
       "      <td>648</td>\n",
       "      <td>...</td>\n",
       "      <td>133</td>\n",
       "      <td>340</td>\n",
       "      <td>16</td>\n",
       "      <td>0.024096</td>\n",
       "      <td>73000</td>\n",
       "      <td>50000</td>\n",
       "      <td>105000</td>\n",
       "      <td>456</td>\n",
       "      <td>176</td>\n",
       "      <td>0</td>\n",
       "    </tr>\n",
       "    <tr>\n",
       "      <th>3</th>\n",
       "      <td>4</td>\n",
       "      <td>2417</td>\n",
       "      <td>NAVAL ARCHITECTURE AND MARINE ENGINEERING</td>\n",
       "      <td>1258.0</td>\n",
       "      <td>1123.0</td>\n",
       "      <td>135.0</td>\n",
       "      <td>Engineering</td>\n",
       "      <td>0.107313</td>\n",
       "      <td>16</td>\n",
       "      <td>758</td>\n",
       "      <td>...</td>\n",
       "      <td>150</td>\n",
       "      <td>692</td>\n",
       "      <td>40</td>\n",
       "      <td>0.050125</td>\n",
       "      <td>70000</td>\n",
       "      <td>43000</td>\n",
       "      <td>80000</td>\n",
       "      <td>529</td>\n",
       "      <td>102</td>\n",
       "      <td>0</td>\n",
       "    </tr>\n",
       "    <tr>\n",
       "      <th>4</th>\n",
       "      <td>5</td>\n",
       "      <td>2405</td>\n",
       "      <td>CHEMICAL ENGINEERING</td>\n",
       "      <td>32260.0</td>\n",
       "      <td>21239.0</td>\n",
       "      <td>11021.0</td>\n",
       "      <td>Engineering</td>\n",
       "      <td>0.341631</td>\n",
       "      <td>289</td>\n",
       "      <td>25694</td>\n",
       "      <td>...</td>\n",
       "      <td>5180</td>\n",
       "      <td>16697</td>\n",
       "      <td>1672</td>\n",
       "      <td>0.061098</td>\n",
       "      <td>65000</td>\n",
       "      <td>50000</td>\n",
       "      <td>75000</td>\n",
       "      <td>18314</td>\n",
       "      <td>4440</td>\n",
       "      <td>972</td>\n",
       "    </tr>\n",
       "  </tbody>\n",
       "</table>\n",
       "<p>5 rows × 21 columns</p>\n",
       "</div>"
      ],
      "text/plain": [
       "   Rank  Major_code                                      Major    Total  \\\n",
       "0     1        2419                      PETROLEUM ENGINEERING   2339.0   \n",
       "1     2        2416             MINING AND MINERAL ENGINEERING    756.0   \n",
       "2     3        2415                  METALLURGICAL ENGINEERING    856.0   \n",
       "3     4        2417  NAVAL ARCHITECTURE AND MARINE ENGINEERING   1258.0   \n",
       "4     5        2405                       CHEMICAL ENGINEERING  32260.0   \n",
       "\n",
       "       Men    Women Major_category  ShareWomen  Sample_size  Employed  \\\n",
       "0   2057.0    282.0    Engineering    0.120564           36      1976   \n",
       "1    679.0     77.0    Engineering    0.101852            7       640   \n",
       "2    725.0    131.0    Engineering    0.153037            3       648   \n",
       "3   1123.0    135.0    Engineering    0.107313           16       758   \n",
       "4  21239.0  11021.0    Engineering    0.341631          289     25694   \n",
       "\n",
       "       ...        Part_time  Full_time_year_round  Unemployed  \\\n",
       "0      ...              270                  1207          37   \n",
       "1      ...              170                   388          85   \n",
       "2      ...              133                   340          16   \n",
       "3      ...              150                   692          40   \n",
       "4      ...             5180                 16697        1672   \n",
       "\n",
       "   Unemployment_rate  Median  P25th   P75th  College_jobs  Non_college_jobs  \\\n",
       "0           0.018381  110000  95000  125000          1534               364   \n",
       "1           0.117241   75000  55000   90000           350               257   \n",
       "2           0.024096   73000  50000  105000           456               176   \n",
       "3           0.050125   70000  43000   80000           529               102   \n",
       "4           0.061098   65000  50000   75000         18314              4440   \n",
       "\n",
       "   Low_wage_jobs  \n",
       "0            193  \n",
       "1             50  \n",
       "2              0  \n",
       "3              0  \n",
       "4            972  \n",
       "\n",
       "[5 rows x 21 columns]"
      ]
     },
     "execution_count": 25,
     "metadata": {},
     "output_type": "execute_result"
    }
   ],
   "source": [
    "import pandas as pd\n",
    "from pandas import Series, DataFrame\n",
    "\n",
    "majors = pd.read_csv('recent-grads.csv')\n",
    "majors.head()"
   ]
  },
  {
   "cell_type": "markdown",
   "metadata": {},
   "source": [
    "#### Generate the following matplotlib plots:\n",
    "- Share of women vs. median salary\n",
    "- Unemployment rate vs. median salary\n",
    "- Unemployment rate vs. share of women\n",
    "- Median salary vs. total participation\n",
    "- Share of women vs. total participation"
   ]
  },
  {
   "cell_type": "code",
   "execution_count": 16,
   "metadata": {},
   "outputs": [
    {
     "data": {
      "image/png": "[encoded data removed]",
      "text/plain": [
       "<matplotlib.figure.Figure at 0x9e03860>"
      ]
     },
     "metadata": {},
     "output_type": "display_data"
    }
   ],
   "source": [
    "import matplotlib.pyplot as plt\n",
    "import numpy as np\n",
    "\n",
    "majors.plot(x='ShareWomen', y='Median', kind='scatter',figsize=(10,8), color='red')\n",
    "plt.xlabel('Share of Women')\n",
    "plt.ylabel('Income Median')\n",
    "plt.grid('on',ls='-.')\n",
    "plt.show()"
   ]
  },
  {
   "cell_type": "code",
   "execution_count": 9,
   "metadata": {},
   "outputs": [
    {
     "data": {
      "image/png": "[encoded data removed]",
      "text/plain": [
       "<matplotlib.figure.Figure at 0x9ec2e48>"
      ]
     },
     "metadata": {},
     "output_type": "display_data"
    }
   ],
   "source": [
    "majors.plot(x='Unemployment_rate', y='Median', kind='scatter', figsize=(10,8),c='b')\n",
    "plt.xlabel('Unemployment Rate')\n",
    "plt.ylabel('Income Median')\n",
    "plt.grid('on', ls='--')\n",
    "plt.show()"
   ]
  },
  {
   "cell_type": "code",
   "execution_count": 11,
   "metadata": {
    "scrolled": true
   },
   "outputs": [
    {
     "data": {
      "image/png": "[encoded data removed]",
      "text/plain": [
       "<matplotlib.figure.Figure at 0xabd93c8>"
      ]
     },
     "metadata": {},
     "output_type": "display_data"
    }
   ],
   "source": [
    "majors.plot(x='Unemployment_rate', y='ShareWomen', kind='scatter', figsize=(10,8),c='g')\n",
    "plt.xlabel('Unemployment Rate')\n",
    "plt.ylabel('Share of Women')\n",
    "plt.grid('on', ls='--')\n",
    "plt.show()"
   ]
  },
  {
   "cell_type": "code",
   "execution_count": 14,
   "metadata": {},
   "outputs": [
    {
     "data": {
      "image/png": "[encoded data removed]",
      "text/plain": [
       "<matplotlib.figure.Figure at 0x9e2ef60>"
      ]
     },
     "metadata": {},
     "output_type": "display_data"
    }
   ],
   "source": [
    "majors.plot(x='Median', y='Total', kind='scatter', figsize=(10,8),c='magenta')\n",
    "plt.xlabel('Income Median')\n",
    "plt.ylabel('Total Participation')\n",
    "plt.grid('on', ls='--')\n",
    "plt.show()"
   ]
  },
  {
   "cell_type": "code",
   "execution_count": 13,
   "metadata": {
    "scrolled": true
   },
   "outputs": [
    {
     "data": {
      "image/png": "[encoded data removed]",
      "text/plain": [
       "<matplotlib.figure.Figure at 0x8fc2208>"
      ]
     },
     "metadata": {},
     "output_type": "display_data"
    }
   ],
   "source": [
    "majors.plot(x='ShareWomen', y='Total', kind='scatter', figsize=(10,8),c='cyan')\n",
    "plt.xlabel('Share of Women')\n",
    "plt.ylabel('Total Participation')\n",
    "plt.grid('on', ls='--')\n",
    "plt.show()"
   ]
  },
  {
   "cell_type": "markdown",
   "metadata": {},
   "source": [
    "#### Find the mean number of full-time and part-time workers across majors"
   ]
  },
  {
   "cell_type": "code",
   "execution_count": 18,
   "metadata": {},
   "outputs": [
    {
     "name": "stdout",
     "output_type": "stream",
     "text": [
      "                                               Full_time\n",
      "Major                                                   \n",
      "ACCOUNTING                                        151967\n",
      "ACTUARIAL SCIENCE                                   2924\n",
      "ADVERTISING AND PUBLIC RELATIONS                   38815\n",
      "AEROSPACE ENGINEERING                              11106\n",
      "AGRICULTURAL ECONOMICS                              1819\n",
      "AGRICULTURE PRODUCTION AND MANAGEMENT              11119\n",
      "ANIMAL SCIENCES                                    14479\n",
      "ANTHROPOLOGY AND ARCHEOLOGY                        20147\n",
      "APPLIED MATHEMATICS                                 3465\n",
      "ARCHITECTURAL ENGINEERING                           2277\n",
      "ARCHITECTURE                                       29223\n",
      "AREA ETHNIC AND CIVILIZATION STUDIES               18755\n",
      "ART AND MUSIC EDUCATION                            23018\n",
      "ART HISTORY AND CRITICISM                          13262\n",
      "ASTRONOMY AND ASTROPHYSICS                          1085\n",
      "ATMOSPHERIC SCIENCES AND METEOROLOGY                2659\n",
      "BIOCHEMICAL SCIENCES                               20643\n",
      "BIOLOGICAL ENGINEERING                              5455\n",
      "BIOLOGY                                           144512\n",
      "BIOMEDICAL ENGINEERING                              9017\n",
      "BOTANY                                               946\n",
      "BUSINESS ECONOMICS                                 10048\n",
      "BUSINESS MANAGEMENT AND ADMINISTRATION            251540\n",
      "CHEMICAL ENGINEERING                               23170\n",
      "CHEMISTRY                                          39509\n",
      "CIVIL ENGINEERING                                  38302\n",
      "CLINICAL PSYCHOLOGY                                 1724\n",
      "COGNITIVE SCIENCE AND BIOPSYCHOLOGY                 2470\n",
      "COMMERCIAL ART AND GRAPHIC DESIGN                  67448\n",
      "COMMUNICATION DISORDERS SCIENCES AND SERVICES      19975\n",
      "...                                                  ...\n",
      "PHILOSOPHY AND RELIGIOUS STUDIES                   31086\n",
      "PHYSICAL AND HEALTH EDUCATION TEACHING             19420\n",
      "PHYSICAL FITNESS PARKS RECREATION AND LEISURE      77428\n",
      "PHYSICAL SCIENCES                                    768\n",
      "PHYSICS                                            19428\n",
      "PHYSIOLOGY                                         10732\n",
      "PLANT SCIENCE AND AGRONOMY                          5798\n",
      "POLITICAL SCIENCE AND GOVERNMENT                  117709\n",
      "PRE-LAW AND LEGAL STUDIES                           7851\n",
      "PSYCHOLOGY                                        233205\n",
      "PUBLIC ADMINISTRATION                               4148\n",
      "PUBLIC POLICY                                       4163\n",
      "SCHOOL STUDENT COUNSELING                            595\n",
      "SCIENCE AND COMPUTER TEACHER EDUCATION              4764\n",
      "SECONDARY TEACHER EDUCATION                        12520\n",
      "SOCIAL PSYCHOLOGY                                    828\n",
      "SOCIAL SCIENCE OR HISTORY TEACHER EDUCATION        14002\n",
      "SOCIAL WORK                                        34941\n",
      "SOCIOLOGY                                          73475\n",
      "SOIL SCIENCE                                         488\n",
      "SPECIAL NEEDS EDUCATION                            21584\n",
      "STATISTICS AND DECISION SCIENCE                     3190\n",
      "STUDIO ARTS                                        10451\n",
      "TEACHER EDUCATION: MULTIPLE LEVELS                 11734\n",
      "THEOLOGY AND RELIGIOUS VOCATIONS                   18079\n",
      "TRANSPORTATION SCIENCES AND TECHNOLOGIES           11688\n",
      "TREATMENT THERAPY PROFESSIONS                      30020\n",
      "UNITED STATES HISTORY                               2103\n",
      "VISUAL AND PERFORMING ARTS                          8447\n",
      "ZOOLOGY                                             5043\n",
      "\n",
      "[173 rows x 1 columns]\n",
      "----------------------------------------------------------------------------------------------------\n",
      "                                               Part_time\n",
      "Major                                                   \n",
      "ACCOUNTING                                         27693\n",
      "ACTUARIAL SCIENCE                                    296\n",
      "ADVERTISING AND PUBLIC RELATIONS                   10948\n",
      "AEROSPACE ENGINEERING                               2724\n",
      "AGRICULTURAL ECONOMICS                               620\n",
      "AGRICULTURE PRODUCTION AND MANAGEMENT               2196\n",
      "ANIMAL SCIENCES                                     5353\n",
      "ANTHROPOLOGY AND ARCHEOLOGY                        14515\n",
      "APPLIED MATHEMATICS                                 1176\n",
      "ARCHITECTURAL ENGINEERING                            343\n",
      "ARCHITECTURE                                       10206\n",
      "AREA ETHNIC AND CIVILIZATION STUDIES                9541\n",
      "ART AND MUSIC EDUCATION                             9209\n",
      "ART HISTORY AND CRITICISM                           6140\n",
      "ASTRONOMY AND ASTROPHYSICS                           553\n",
      "ATMOSPHERIC SCIENCES AND METEOROLOGY                1309\n",
      "BIOCHEMICAL SCIENCES                                9948\n",
      "BIOLOGICAL ENGINEERING                              1983\n",
      "BIOLOGY                                            72371\n",
      "BIOMEDICAL ENGINEERING                              2694\n",
      "BOTANY                                               169\n",
      "BUSINESS ECONOMICS                                  1937\n",
      "BUSINESS MANAGEMENT AND ADMINISTRATION             50357\n",
      "CHEMICAL ENGINEERING                                5180\n",
      "CHEMISTRY                                          15066\n",
      "CIVIL ENGINEERING                                  10080\n",
      "CLINICAL PSYCHOLOGY                                  648\n",
      "COGNITIVE SCIENCE AND BIOPSYCHOLOGY                  711\n",
      "COMMERCIAL ART AND GRAPHIC DESIGN                  24387\n",
      "COMMUNICATION DISORDERS SCIENCES AND SERVICES      13862\n",
      "...                                                  ...\n",
      "PHILOSOPHY AND RELIGIOUS STUDIES                   16659\n",
      "PHYSICAL AND HEALTH EDUCATION TEACHING              7230\n",
      "PHYSICAL FITNESS PARKS RECREATION AND LEISURE      38515\n",
      "PHYSICAL SCIENCES                                    437\n",
      "PHYSICS                                             8721\n",
      "PHYSIOLOGY                                          6541\n",
      "PLANT SCIENCE AND AGRONOMY                          1246\n",
      "POLITICAL SCIENCE AND GOVERNMENT                   43711\n",
      "PRE-LAW AND LEGAL STUDIES                           3595\n",
      "PSYCHOLOGY                                        115172\n",
      "PUBLIC ADMINISTRATION                                847\n",
      "PUBLIC POLICY                                       1306\n",
      "SCHOOL STUDENT COUNSELING                            135\n",
      "SCIENCE AND COMPUTER TEACHER EDUCATION              1227\n",
      "SECONDARY TEACHER EDUCATION                         3782\n",
      "SOCIAL PSYCHOLOGY                                    433\n",
      "SOCIAL SCIENCE OR HISTORY TEACHER EDUCATION         5168\n",
      "SOCIAL WORK                                        13481\n",
      "SOCIOLOGY                                          29639\n",
      "SOIL SCIENCE                                         185\n",
      "SPECIAL NEEDS EDUCATION                             5153\n",
      "STATISTICS AND DECISION SCIENCE                     1840\n",
      "STUDIO ARTS                                         5673\n",
      "TEACHER EDUCATION: MULTIPLE LEVELS                  2214\n",
      "THEOLOGY AND RELIGIOUS VOCATIONS                    8767\n",
      "TRANSPORTATION SCIENCES AND TECHNOLOGIES            2633\n",
      "TREATMENT THERAPY PROFESSIONS                      12346\n",
      "UNITED STATES HISTORY                                839\n",
      "VISUAL AND PERFORMING ARTS                          6253\n",
      "ZOOLOGY                                             2190\n",
      "\n",
      "[173 rows x 1 columns]\n"
     ]
    }
   ],
   "source": [
    "print(majors.pivot_table(values='Full_time', index='Major',aggfunc=np.mean))\n",
    "print('-'*100)\n",
    "print(majors.pivot_table(values='Part_time', index='Major',aggfunc=np.mean))"
   ]
  },
  {
   "cell_type": "markdown",
   "metadata": {},
   "source": [
    "#### Find the median number of people in low wage jobs"
   ]
  },
  {
   "cell_type": "code",
   "execution_count": 23,
   "metadata": {},
   "outputs": [
    {
     "name": "stdout",
     "output_type": "stream",
     "text": [
      "1231.0\n",
      "1231.0\n",
      "1231.0\n"
     ]
    }
   ],
   "source": [
    "print(majors.Low_wage_jobs.median())\n",
    "print(majors['Low_wage_jobs'].median())\n",
    "print(majors['Low_wage_jobs'].median(axis=0))"
   ]
  },
  {
   "cell_type": "markdown",
   "metadata": {},
   "source": [
    "#### Create a table of summary statistics for the unemployment and employment rates"
   ]
  },
  {
   "cell_type": "code",
   "execution_count": 28,
   "metadata": {},
   "outputs": [
    {
     "name": "stdout",
     "output_type": "stream",
     "text": [
      "count    173.000000\n",
      "mean       0.068191\n",
      "std        0.030331\n",
      "min        0.000000\n",
      "25%        0.050306\n",
      "50%        0.067961\n",
      "75%        0.087557\n",
      "max        0.177226\n",
      "Name: Unemployment_rate, dtype: float64\n",
      "count    173.000000\n",
      "mean       0.931809\n",
      "std        0.030331\n",
      "min        0.822774\n",
      "25%        0.912443\n",
      "50%        0.932039\n",
      "75%        0.949694\n",
      "max        1.000000\n",
      "Name: Employment_rate, dtype: float64\n",
      "count    173.000000\n",
      "mean       0.931809\n",
      "std        0.030331\n",
      "min        0.822774\n",
      "25%        0.912443\n",
      "50%        0.932039\n",
      "75%        0.949694\n",
      "max        1.000000\n",
      "Name: Employment_rate2, dtype: float64\n"
     ]
    }
   ],
   "source": [
    "print(majors['Unemployment_rate'].describe())\n",
    "majors['Employment_rate']=Series(1-majors['Unemployment_rate'].values,majors.index)\n",
    "majors['Employment_rate2']=1-majors['Unemployment_rate']\n",
    "print(majors['Employment_rate'].describe())\n",
    "print(majors['Employment_rate2'].describe())"
   ]
  },
  {
   "cell_type": "markdown",
   "metadata": {},
   "source": [
    "#### Create a table of summary statistics for major's categories"
   ]
  },
  {
   "cell_type": "code",
   "execution_count": 31,
   "metadata": {},
   "outputs": [
    {
     "name": "stdout",
     "output_type": "stream",
     "text": [
      "count             173\n",
      "unique             16\n",
      "top       Engineering\n",
      "freq               29\n",
      "Name: Major_category, dtype: object\n",
      "----------------------------------------------------------------------------------------------------\n",
      "                                     Median\n",
      "Major_category                             \n",
      "Agriculture & Natural Resources          10\n",
      "Arts                                      8\n",
      "Biology & Life Science                   14\n",
      "Business                                 13\n",
      "Communications & Journalism               4\n",
      "Computers & Mathematics                  11\n",
      "Education                                16\n",
      "Engineering                              29\n",
      "Health                                   12\n",
      "Humanities & Liberal Arts                15\n",
      "Industrial Arts & Consumer Services       7\n",
      "Interdisciplinary                         1\n",
      "Law & Public Policy                       5\n",
      "Physical Sciences                        10\n",
      "Psychology & Social Work                  9\n",
      "Social Science                            9\n",
      "All                                     173\n"
     ]
    }
   ],
   "source": [
    "print(majors['Major_category'].describe())\n",
    "print('-'*100)\n",
    "print(majors.pivot_table(values='Median',index='Major_category',aggfunc='count',margins=True).astype(int))"
   ]
  },
  {
   "cell_type": "markdown",
   "metadata": {},
   "source": [
    "#### Create a new variable equal to the proportion of workers who are part time"
   ]
  },
  {
   "cell_type": "code",
   "execution_count": 33,
   "metadata": {},
   "outputs": [
    {
     "data": {
      "text/html": [
       "<div>\n",
       "<style>\n",
       "    .dataframe thead tr:only-child th {\n",
       "        text-align: right;\n",
       "    }\n",
       "\n",
       "    .dataframe thead th {\n",
       "        text-align: left;\n",
       "    }\n",
       "\n",
       "    .dataframe tbody tr th {\n",
       "        vertical-align: top;\n",
       "    }\n",
       "</style>\n",
       "<table border=\"1\" class=\"dataframe\">\n",
       "  <thead>\n",
       "    <tr style=\"text-align: right;\">\n",
       "      <th></th>\n",
       "      <th>Rank</th>\n",
       "      <th>Major_code</th>\n",
       "      <th>Major</th>\n",
       "      <th>Total</th>\n",
       "      <th>Men</th>\n",
       "      <th>Women</th>\n",
       "      <th>Major_category</th>\n",
       "      <th>ShareWomen</th>\n",
       "      <th>Sample_size</th>\n",
       "      <th>Employed</th>\n",
       "      <th>...</th>\n",
       "      <th>Unemployment_rate</th>\n",
       "      <th>Median</th>\n",
       "      <th>P25th</th>\n",
       "      <th>P75th</th>\n",
       "      <th>College_jobs</th>\n",
       "      <th>Non_college_jobs</th>\n",
       "      <th>Low_wage_jobs</th>\n",
       "      <th>Employment_rate</th>\n",
       "      <th>Employment_rate2</th>\n",
       "      <th>proportion_part_time</th>\n",
       "    </tr>\n",
       "  </thead>\n",
       "  <tbody>\n",
       "    <tr>\n",
       "      <th>0</th>\n",
       "      <td>1</td>\n",
       "      <td>2419</td>\n",
       "      <td>PETROLEUM ENGINEERING</td>\n",
       "      <td>2339.0</td>\n",
       "      <td>2057.0</td>\n",
       "      <td>282.0</td>\n",
       "      <td>Engineering</td>\n",
       "      <td>0.120564</td>\n",
       "      <td>36</td>\n",
       "      <td>1976</td>\n",
       "      <td>...</td>\n",
       "      <td>0.018381</td>\n",
       "      <td>110000</td>\n",
       "      <td>95000</td>\n",
       "      <td>125000</td>\n",
       "      <td>1534</td>\n",
       "      <td>364</td>\n",
       "      <td>193</td>\n",
       "      <td>0.981619</td>\n",
       "      <td>0.981619</td>\n",
       "      <td>0.115434</td>\n",
       "    </tr>\n",
       "    <tr>\n",
       "      <th>1</th>\n",
       "      <td>2</td>\n",
       "      <td>2416</td>\n",
       "      <td>MINING AND MINERAL ENGINEERING</td>\n",
       "      <td>756.0</td>\n",
       "      <td>679.0</td>\n",
       "      <td>77.0</td>\n",
       "      <td>Engineering</td>\n",
       "      <td>0.101852</td>\n",
       "      <td>7</td>\n",
       "      <td>640</td>\n",
       "      <td>...</td>\n",
       "      <td>0.117241</td>\n",
       "      <td>75000</td>\n",
       "      <td>55000</td>\n",
       "      <td>90000</td>\n",
       "      <td>350</td>\n",
       "      <td>257</td>\n",
       "      <td>50</td>\n",
       "      <td>0.882759</td>\n",
       "      <td>0.882759</td>\n",
       "      <td>0.224868</td>\n",
       "    </tr>\n",
       "    <tr>\n",
       "      <th>2</th>\n",
       "      <td>3</td>\n",
       "      <td>2415</td>\n",
       "      <td>METALLURGICAL ENGINEERING</td>\n",
       "      <td>856.0</td>\n",
       "      <td>725.0</td>\n",
       "      <td>131.0</td>\n",
       "      <td>Engineering</td>\n",
       "      <td>0.153037</td>\n",
       "      <td>3</td>\n",
       "      <td>648</td>\n",
       "      <td>...</td>\n",
       "      <td>0.024096</td>\n",
       "      <td>73000</td>\n",
       "      <td>50000</td>\n",
       "      <td>105000</td>\n",
       "      <td>456</td>\n",
       "      <td>176</td>\n",
       "      <td>0</td>\n",
       "      <td>0.975904</td>\n",
       "      <td>0.975904</td>\n",
       "      <td>0.155374</td>\n",
       "    </tr>\n",
       "    <tr>\n",
       "      <th>3</th>\n",
       "      <td>4</td>\n",
       "      <td>2417</td>\n",
       "      <td>NAVAL ARCHITECTURE AND MARINE ENGINEERING</td>\n",
       "      <td>1258.0</td>\n",
       "      <td>1123.0</td>\n",
       "      <td>135.0</td>\n",
       "      <td>Engineering</td>\n",
       "      <td>0.107313</td>\n",
       "      <td>16</td>\n",
       "      <td>758</td>\n",
       "      <td>...</td>\n",
       "      <td>0.050125</td>\n",
       "      <td>70000</td>\n",
       "      <td>43000</td>\n",
       "      <td>80000</td>\n",
       "      <td>529</td>\n",
       "      <td>102</td>\n",
       "      <td>0</td>\n",
       "      <td>0.949875</td>\n",
       "      <td>0.949875</td>\n",
       "      <td>0.119237</td>\n",
       "    </tr>\n",
       "    <tr>\n",
       "      <th>4</th>\n",
       "      <td>5</td>\n",
       "      <td>2405</td>\n",
       "      <td>CHEMICAL ENGINEERING</td>\n",
       "      <td>32260.0</td>\n",
       "      <td>21239.0</td>\n",
       "      <td>11021.0</td>\n",
       "      <td>Engineering</td>\n",
       "      <td>0.341631</td>\n",
       "      <td>289</td>\n",
       "      <td>25694</td>\n",
       "      <td>...</td>\n",
       "      <td>0.061098</td>\n",
       "      <td>65000</td>\n",
       "      <td>50000</td>\n",
       "      <td>75000</td>\n",
       "      <td>18314</td>\n",
       "      <td>4440</td>\n",
       "      <td>972</td>\n",
       "      <td>0.938902</td>\n",
       "      <td>0.938902</td>\n",
       "      <td>0.160570</td>\n",
       "    </tr>\n",
       "  </tbody>\n",
       "</table>\n",
       "<p>5 rows × 24 columns</p>\n",
       "</div>"
      ],
      "text/plain": [
       "   Rank  Major_code                                      Major    Total  \\\n",
       "0     1        2419                      PETROLEUM ENGINEERING   2339.0   \n",
       "1     2        2416             MINING AND MINERAL ENGINEERING    756.0   \n",
       "2     3        2415                  METALLURGICAL ENGINEERING    856.0   \n",
       "3     4        2417  NAVAL ARCHITECTURE AND MARINE ENGINEERING   1258.0   \n",
       "4     5        2405                       CHEMICAL ENGINEERING  32260.0   \n",
       "\n",
       "       Men    Women Major_category  ShareWomen  Sample_size  Employed  \\\n",
       "0   2057.0    282.0    Engineering    0.120564           36      1976   \n",
       "1    679.0     77.0    Engineering    0.101852            7       640   \n",
       "2    725.0    131.0    Engineering    0.153037            3       648   \n",
       "3   1123.0    135.0    Engineering    0.107313           16       758   \n",
       "4  21239.0  11021.0    Engineering    0.341631          289     25694   \n",
       "\n",
       "           ...           Unemployment_rate  Median  P25th   P75th  \\\n",
       "0          ...                    0.018381  110000  95000  125000   \n",
       "1          ...                    0.117241   75000  55000   90000   \n",
       "2          ...                    0.024096   73000  50000  105000   \n",
       "3          ...                    0.050125   70000  43000   80000   \n",
       "4          ...                    0.061098   65000  50000   75000   \n",
       "\n",
       "   College_jobs  Non_college_jobs  Low_wage_jobs  Employment_rate  \\\n",
       "0          1534               364            193         0.981619   \n",
       "1           350               257             50         0.882759   \n",
       "2           456               176              0         0.975904   \n",
       "3           529               102              0         0.949875   \n",
       "4         18314              4440            972         0.938902   \n",
       "\n",
       "   Employment_rate2  proportion_part_time  \n",
       "0          0.981619              0.115434  \n",
       "1          0.882759              0.224868  \n",
       "2          0.975904              0.155374  \n",
       "3          0.949875              0.119237  \n",
       "4          0.938902              0.160570  \n",
       "\n",
       "[5 rows x 24 columns]"
      ]
     },
     "execution_count": 33,
     "metadata": {},
     "output_type": "execute_result"
    }
   ],
   "source": [
    "majors['proportion_part_time']=Series(majors['Part_time']/majors['Total'],majors.index)\n",
    "majors.head()"
   ]
  },
  {
   "cell_type": "markdown",
   "metadata": {},
   "source": [
    "#### Plot the part time rate against the share of women"
   ]
  },
  {
   "cell_type": "code",
   "execution_count": 37,
   "metadata": {},
   "outputs": [
    {
     "data": {
      "image/png": "[encoded data removed]",
      "text/plain": [
       "<matplotlib.figure.Figure at 0xa2a9128>"
      ]
     },
     "metadata": {},
     "output_type": "display_data"
    }
   ],
   "source": [
    "majors.plot(x='proportion_part_time',y='ShareWomen',kind='scatter',grid=1,legend=1,\n",
    "            title='Part-time rate versus share of woman',figsize=(10,8))\n",
    "plt.show()"
   ]
  },
  {
   "cell_type": "markdown",
   "metadata": {},
   "source": [
    "#### How many college majors in the sample have a median salary above $50,000?\n",
    "* Hint: use `len()` to find the length of a dataframe"
   ]
  },
  {
   "cell_type": "code",
   "execution_count": 44,
   "metadata": {},
   "outputs": [
    {
     "data": {
      "text/html": [
       "<div>\n",
       "<style>\n",
       "    .dataframe thead tr:only-child th {\n",
       "        text-align: right;\n",
       "    }\n",
       "\n",
       "    .dataframe thead th {\n",
       "        text-align: left;\n",
       "    }\n",
       "\n",
       "    .dataframe tbody tr th {\n",
       "        vertical-align: top;\n",
       "    }\n",
       "</style>\n",
       "<table border=\"1\" class=\"dataframe\">\n",
       "  <thead>\n",
       "    <tr style=\"text-align: right;\">\n",
       "      <th>Median</th>\n",
       "      <th>(0, 50000]</th>\n",
       "      <th>(50000, 110000]</th>\n",
       "    </tr>\n",
       "  </thead>\n",
       "  <tbody>\n",
       "    <tr>\n",
       "      <th>Median</th>\n",
       "      <td>148</td>\n",
       "      <td>25</td>\n",
       "    </tr>\n",
       "  </tbody>\n",
       "</table>\n",
       "</div>"
      ],
      "text/plain": [
       "Median  (0, 50000]  (50000, 110000]\n",
       "Median         148               25"
      ]
     },
     "execution_count": 44,
     "metadata": {},
     "output_type": "execute_result"
    }
   ],
   "source": [
    "M1 = 50000\n",
    "M2 = majors['Median'].max(axis=0)\n",
    "median_cut = pd.cut(majors['Median'],[0,M1,M2])\n",
    "majors.pivot_table(values='Median',columns=median_cut,aggfunc='count')"
   ]
  },
  {
   "cell_type": "markdown",
   "metadata": {},
   "source": [
    "#### How many Business majors have a median salary above $50,000?"
   ]
  },
  {
   "cell_type": "code",
   "execution_count": 45,
   "metadata": {},
   "outputs": [
    {
     "data": {
      "text/html": [
       "<div>\n",
       "<style>\n",
       "    .dataframe thead tr:only-child th {\n",
       "        text-align: right;\n",
       "    }\n",
       "\n",
       "    .dataframe thead th {\n",
       "        text-align: left;\n",
       "    }\n",
       "\n",
       "    .dataframe tbody tr th {\n",
       "        vertical-align: top;\n",
       "    }\n",
       "</style>\n",
       "<table border=\"1\" class=\"dataframe\">\n",
       "  <thead>\n",
       "    <tr style=\"text-align: right;\">\n",
       "      <th>Median</th>\n",
       "      <th>(0, 50000]</th>\n",
       "      <th>(50000, 110000]</th>\n",
       "    </tr>\n",
       "    <tr>\n",
       "      <th>Major_category</th>\n",
       "      <th></th>\n",
       "      <th></th>\n",
       "    </tr>\n",
       "  </thead>\n",
       "  <tbody>\n",
       "    <tr>\n",
       "      <th>Agriculture &amp; Natural Resources</th>\n",
       "      <td>9.0</td>\n",
       "      <td>1.0</td>\n",
       "    </tr>\n",
       "    <tr>\n",
       "      <th>Arts</th>\n",
       "      <td>8.0</td>\n",
       "      <td>NaN</td>\n",
       "    </tr>\n",
       "    <tr>\n",
       "      <th>Biology &amp; Life Science</th>\n",
       "      <td>14.0</td>\n",
       "      <td>NaN</td>\n",
       "    </tr>\n",
       "    <tr>\n",
       "      <th>Business</th>\n",
       "      <td>11.0</td>\n",
       "      <td>2.0</td>\n",
       "    </tr>\n",
       "    <tr>\n",
       "      <th>Communications &amp; Journalism</th>\n",
       "      <td>4.0</td>\n",
       "      <td>NaN</td>\n",
       "    </tr>\n",
       "    <tr>\n",
       "      <th>Computers &amp; Mathematics</th>\n",
       "      <td>10.0</td>\n",
       "      <td>1.0</td>\n",
       "    </tr>\n",
       "    <tr>\n",
       "      <th>Education</th>\n",
       "      <td>16.0</td>\n",
       "      <td>NaN</td>\n",
       "    </tr>\n",
       "    <tr>\n",
       "      <th>Engineering</th>\n",
       "      <td>10.0</td>\n",
       "      <td>19.0</td>\n",
       "    </tr>\n",
       "    <tr>\n",
       "      <th>Health</th>\n",
       "      <td>12.0</td>\n",
       "      <td>NaN</td>\n",
       "    </tr>\n",
       "    <tr>\n",
       "      <th>Humanities &amp; Liberal Arts</th>\n",
       "      <td>15.0</td>\n",
       "      <td>NaN</td>\n",
       "    </tr>\n",
       "    <tr>\n",
       "      <th>Industrial Arts &amp; Consumer Services</th>\n",
       "      <td>7.0</td>\n",
       "      <td>NaN</td>\n",
       "    </tr>\n",
       "    <tr>\n",
       "      <th>Interdisciplinary</th>\n",
       "      <td>1.0</td>\n",
       "      <td>NaN</td>\n",
       "    </tr>\n",
       "    <tr>\n",
       "      <th>Law &amp; Public Policy</th>\n",
       "      <td>4.0</td>\n",
       "      <td>1.0</td>\n",
       "    </tr>\n",
       "    <tr>\n",
       "      <th>Physical Sciences</th>\n",
       "      <td>9.0</td>\n",
       "      <td>1.0</td>\n",
       "    </tr>\n",
       "    <tr>\n",
       "      <th>Psychology &amp; Social Work</th>\n",
       "      <td>9.0</td>\n",
       "      <td>NaN</td>\n",
       "    </tr>\n",
       "    <tr>\n",
       "      <th>Social Science</th>\n",
       "      <td>9.0</td>\n",
       "      <td>NaN</td>\n",
       "    </tr>\n",
       "  </tbody>\n",
       "</table>\n",
       "</div>"
      ],
      "text/plain": [
       "Median                               (0, 50000]  (50000, 110000]\n",
       "Major_category                                                  \n",
       "Agriculture & Natural Resources             9.0              1.0\n",
       "Arts                                        8.0              NaN\n",
       "Biology & Life Science                     14.0              NaN\n",
       "Business                                   11.0              2.0\n",
       "Communications & Journalism                 4.0              NaN\n",
       "Computers & Mathematics                    10.0              1.0\n",
       "Education                                  16.0              NaN\n",
       "Engineering                                10.0             19.0\n",
       "Health                                     12.0              NaN\n",
       "Humanities & Liberal Arts                  15.0              NaN\n",
       "Industrial Arts & Consumer Services         7.0              NaN\n",
       "Interdisciplinary                           1.0              NaN\n",
       "Law & Public Policy                         4.0              1.0\n",
       "Physical Sciences                           9.0              1.0\n",
       "Psychology & Social Work                    9.0              NaN\n",
       "Social Science                              9.0              NaN"
      ]
     },
     "execution_count": 45,
     "metadata": {},
     "output_type": "execute_result"
    }
   ],
   "source": [
    "majors.pivot_table(values='Median',index='Major_category',columns=median_cut,aggfunc='count')"
   ]
  },
  {
   "cell_type": "markdown",
   "metadata": {},
   "source": [
    "#### Of all Business majors, which has the highest median salary?"
   ]
  },
  {
   "cell_type": "code",
   "execution_count": 46,
   "metadata": {},
   "outputs": [
    {
     "data": {
      "text/html": [
       "<div>\n",
       "<style>\n",
       "    .dataframe thead tr:only-child th {\n",
       "        text-align: right;\n",
       "    }\n",
       "\n",
       "    .dataframe thead th {\n",
       "        text-align: left;\n",
       "    }\n",
       "\n",
       "    .dataframe tbody tr th {\n",
       "        vertical-align: top;\n",
       "    }\n",
       "</style>\n",
       "<table border=\"1\" class=\"dataframe\">\n",
       "  <thead>\n",
       "    <tr style=\"text-align: right;\">\n",
       "      <th></th>\n",
       "      <th>Major</th>\n",
       "      <th>Median</th>\n",
       "    </tr>\n",
       "  </thead>\n",
       "  <tbody>\n",
       "    <tr>\n",
       "      <th>6</th>\n",
       "      <td>ACTUARIAL SCIENCE</td>\n",
       "      <td>62000</td>\n",
       "    </tr>\n",
       "    <tr>\n",
       "      <th>24</th>\n",
       "      <td>MANAGEMENT INFORMATION SYSTEMS AND STATISTICS</td>\n",
       "      <td>51000</td>\n",
       "    </tr>\n",
       "    <tr>\n",
       "      <th>27</th>\n",
       "      <td>OPERATIONS LOGISTICS AND E-COMMERCE</td>\n",
       "      <td>50000</td>\n",
       "    </tr>\n",
       "    <tr>\n",
       "      <th>35</th>\n",
       "      <td>FINANCE</td>\n",
       "      <td>47000</td>\n",
       "    </tr>\n",
       "    <tr>\n",
       "      <th>37</th>\n",
       "      <td>BUSINESS ECONOMICS</td>\n",
       "      <td>46000</td>\n",
       "    </tr>\n",
       "    <tr>\n",
       "      <th>40</th>\n",
       "      <td>ACCOUNTING</td>\n",
       "      <td>45000</td>\n",
       "    </tr>\n",
       "    <tr>\n",
       "      <th>57</th>\n",
       "      <td>GENERAL BUSINESS</td>\n",
       "      <td>40000</td>\n",
       "    </tr>\n",
       "    <tr>\n",
       "      <th>59</th>\n",
       "      <td>INTERNATIONAL BUSINESS</td>\n",
       "      <td>40000</td>\n",
       "    </tr>\n",
       "    <tr>\n",
       "      <th>62</th>\n",
       "      <td>MISCELLANEOUS BUSINESS &amp; MEDICAL ADMINISTRATION</td>\n",
       "      <td>40000</td>\n",
       "    </tr>\n",
       "    <tr>\n",
       "      <th>76</th>\n",
       "      <td>BUSINESS MANAGEMENT AND ADMINISTRATION</td>\n",
       "      <td>38000</td>\n",
       "    </tr>\n",
       "    <tr>\n",
       "      <th>77</th>\n",
       "      <td>MARKETING AND MARKETING RESEARCH</td>\n",
       "      <td>38000</td>\n",
       "    </tr>\n",
       "    <tr>\n",
       "      <th>86</th>\n",
       "      <td>HUMAN RESOURCES AND PERSONNEL MANAGEMENT</td>\n",
       "      <td>36000</td>\n",
       "    </tr>\n",
       "    <tr>\n",
       "      <th>127</th>\n",
       "      <td>HOSPITALITY MANAGEMENT</td>\n",
       "      <td>33000</td>\n",
       "    </tr>\n",
       "  </tbody>\n",
       "</table>\n",
       "</div>"
      ],
      "text/plain": [
       "                                               Major  Median\n",
       "6                                  ACTUARIAL SCIENCE   62000\n",
       "24     MANAGEMENT INFORMATION SYSTEMS AND STATISTICS   51000\n",
       "27               OPERATIONS LOGISTICS AND E-COMMERCE   50000\n",
       "35                                           FINANCE   47000\n",
       "37                                BUSINESS ECONOMICS   46000\n",
       "40                                        ACCOUNTING   45000\n",
       "57                                  GENERAL BUSINESS   40000\n",
       "59                            INTERNATIONAL BUSINESS   40000\n",
       "62   MISCELLANEOUS BUSINESS & MEDICAL ADMINISTRATION   40000\n",
       "76            BUSINESS MANAGEMENT AND ADMINISTRATION   38000\n",
       "77                  MARKETING AND MARKETING RESEARCH   38000\n",
       "86          HUMAN RESOURCES AND PERSONNEL MANAGEMENT   36000\n",
       "127                           HOSPITALITY MANAGEMENT   33000"
      ]
     },
     "execution_count": 46,
     "metadata": {},
     "output_type": "execute_result"
    }
   ],
   "source": [
    "majors[majors['Major_category']=='Business'][['Major','Median']]"
   ]
  },
  {
   "cell_type": "markdown",
   "metadata": {},
   "source": [
    "#### Return the mean of the share of women for each major category and sort from highest to lowest, plot the result as a bar plot"
   ]
  },
  {
   "cell_type": "code",
   "execution_count": 48,
   "metadata": {},
   "outputs": [
    {
     "data": {
      "image/png": "[encoded data removed]",
      "text/plain": [
       "<matplotlib.figure.Figure at 0xa8b0438>"
      ]
     },
     "metadata": {},
     "output_type": "display_data"
    }
   ],
   "source": [
    "df2= majors.pivot_table(values='ShareWomen',index='Major_category',aggfunc='mean')\n",
    "df2=df2.sort_values(by='ShareWomen')\n",
    "df2.plot(y='ShareWomen',kind='barh',figsize=(8,10))\n",
    "plt.show()"
   ]
  },
  {
   "cell_type": "code",
   "execution_count": null,
   "metadata": {
    "collapsed": true
   },
   "outputs": [],
   "source": []
  }
 ],
 "metadata": {
  "anaconda-cloud": {},
  "kernelspec": {
   "display_name": "Python 3",
   "language": "python",
   "name": "python3"
  },
  "language_info": {
   "codemirror_mode": {
    "name": "ipython",
    "version": 3
   },
   "file_extension": ".py",
   "mimetype": "text/x-python",
   "name": "python",
   "nbconvert_exporter": "python",
   "pygments_lexer": "ipython3",
   "version": "3.6.1"
  },
  "toc": {
   "colors": {
    "hover_highlight": "#DAA520",
    "navigate_num": "#000000",
    "navigate_text": "#333333",
    "running_highlight": "#FF0000",
    "selected_highlight": "#FFD700",
    "sidebar_border": "#EEEEEE",
    "wrapper_background": "#FFFFFF"
   },
   "moveMenuLeft": true,
   "nav_menu": {
    "height": "30px",
    "width": "252px"
   },
   "navigate_menu": true,
   "number_sections": true,
   "sideBar": true,
   "threshold": 4,
   "toc_cell": false,
   "toc_section_display": "block",
   "toc_window_display": false,
   "widenNotebook": false
  },
  "varInspector": {
   "cols": {
    "lenName": 16,
    "lenType": 16,
    "lenVar": 40
   },
   "kernels_config": {
    "python": {
     "delete_cmd_postfix": "",
     "delete_cmd_prefix": "del ",
     "library": "var_list.py",
     "varRefreshCmd": "print(var_dic_list())"
    },
    "r": {
     "delete_cmd_postfix": ") ",
     "delete_cmd_prefix": "rm(",
     "library": "var_list.r",
     "varRefreshCmd": "cat(var_dic_list()) "
    }
   },
   "types_to_exclude": [
    "module",
    "function",
    "builtin_function_or_method",
    "instance",
    "_Feature"
   ],
   "window_display": false
  }
 },
 "nbformat": 4,
 "nbformat_minor": 2
}
